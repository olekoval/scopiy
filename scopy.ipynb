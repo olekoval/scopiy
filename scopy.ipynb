{
 "cells": [
  {
   "cell_type": "code",
   "execution_count": 40,
   "id": "378d42f2",
   "metadata": {},
   "outputs": [],
   "source": [
    "import pandas as pd\n",
    "from my_scopiy import find_intervents\n",
    "\n",
    "\n",
    "name = ['Гістероскопія','Езофагогастродуоденоскопія',\n",
    "        'Колоноскопія','Цистоскопія','Бронхоскопія']\n",
    "mn = [{'35630-00','35633-01'}, \n",
    "      {'30473-00', '30473-05', '30473-07', '30473-08', '30473-01', '30473-06'},\n",
    "      {'32090-00', '32084-00', '32084-02', '32084-01', '32087-00', '32090-01',\n",
    "       '32090-02', '32093-00'},\n",
    "      {'36803-00', '36812-00', '36806-00', '36836-00'},\n",
    "      {'41889-01', '41889-05', '38418-06', '41898-04'}]\n",
    "\n",
    "path = \"\"\n",
    "df = pd.read_csv(path)\n",
    "df['group'] = df['actions'].apply(find_intervents, mn=mn, name=name)\n",
    "df.to_excel('scopiy.xlsx', index=False)"
   ]
  },
  {
   "cell_type": "code",
   "execution_count": null,
   "id": "e4c4002d",
   "metadata": {},
   "outputs": [],
   "source": [
    "def find_intervents(row, mn, name):\n",
    "    row_set = set(row.split(\",\"))\n",
    "    for index, value in enumerate(range(len(mn))):\n",
    "        element = len(mn[index] & row_set)\n",
    "        if element > 0:   \n",
    "              return name[index]\n",
    "\n",
    "        \n",
    "if __name__ == \"__main__\":\n",
    "    \n",
    "    mn = [{'a', 'b'}, {'c', 'd'}, {'e', 'f'}]\n",
    "    mnn = \"f,c,f,j,k,m,n,c,e\"\n",
    "    name = ['Колоноскопия', 'Эндоскопия', 'Гистероскопия']\n",
    "\n",
    "    print(find_intervents(mnn, mn, name))"
   ]
  }
 ],
 "metadata": {
  "kernelspec": {
   "display_name": "Python 3 (ipykernel)",
   "language": "python",
   "name": "python3"
  },
  "language_info": {
   "codemirror_mode": {
    "name": "ipython",
    "version": 3
   },
   "file_extension": ".py",
   "mimetype": "text/x-python",
   "name": "python",
   "nbconvert_exporter": "python",
   "pygments_lexer": "ipython3",
   "version": "3.10.11"
  }
 },
 "nbformat": 4,
 "nbformat_minor": 5
}
